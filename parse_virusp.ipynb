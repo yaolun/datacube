{
 "cells": [
  {
   "cell_type": "code",
   "execution_count": 19,
   "metadata": {
    "collapsed": false
   },
   "outputs": [],
   "source": [
    "from astropy.io import fits, ascii\n",
    "import numpy as np\n",
    "\n",
    "datafile = '/Users/yaolun/research/mapping_code/VIRUS-P/CuFcalFeSpesvp_F13_R_0212.fits'\n",
    "hdu = fits.open(datafile)"
   ]
  },
  {
   "cell_type": "code",
   "execution_count": 30,
   "metadata": {
    "collapsed": false
   },
   "outputs": [
    {
     "data": {
      "text/plain": [
       "SIMPLE  =                    T                                                  \n",
       "BITPIX  =                  -32                                                  \n",
       "NAXIS   =                    3                                                  \n",
       "NAXIS1  =                   51                                                  \n",
       "NAXIS2  =                   50                                                  \n",
       "NAXIS3  =                  919                                                  \n",
       "EXTEND  =                    T                                                  \n",
       "CTYPE1  = 'RA---TAN'                                                            \n",
       "CRPIX1  = 0.000593551783822477                                                  \n",
       "CRVAL1  =     148.756912231445                                                  \n",
       "CTYPE2  = 'DEC--TAN'                                                            \n",
       "CRPIX2  = 0.000600291125010699                                                  \n",
       "CRVAL2  =     69.8553314208984                                                  \n",
       "CD2_2   =                   25                                                  \n",
       "CD1_1   =                -25.5                                                  \n",
       "CD1_2   =                    0                                                  \n",
       "CD2_1   =                    0                                                  \n",
       "CTYPE3  = 'LINEAR  '                                                            \n",
       "CRPIX3  =                    1                                                  \n",
       "CRVAL3  =      4754.2900390625                                                  \n",
       "CDELT3  =        2.38818359375                                                  \n",
       "CUNIT3  = 'Angstrom'                                                            \n",
       "DATE    = '2017-05-12T18:40:53' / date and time of writing file                 \n",
       "DATE-OBS= '2016-04-04'         / Date (yyyy-mm-dd) of obs.                      \n",
       "OBJECT  = 'M82_F13 dither 1'   / Object name                                    \n",
       "OBSERVER= 'indahl  '           / Observers                                      \n",
       "INSTRUME= 'test    '           / Instrument name                                \n",
       "TELESCOP= 'test    '           / Telescope name                                 \n",
       "ORIGIN  = 'LTL FITS IO class, September 2010' / FITS file originator            \n",
       "OBSERVAT= 'MCDONALD'           / Observatory                                    \n",
       "EXPTIME =                  900 / Actual integration time                        \n",
       "DARKTIME=              900.173 / Total elapsed time                             \n",
       "IMAGETYP= 'object  '           / Object, bias, dark, flat, comp etc.            \n",
       "UT      = '04:52:04.61'        / Universal time                                 \n",
       "ST      = '10:47:45.47'        / Sidereal time                                  \n",
       "POINT   = 'mean    '           / Point type                                     \n",
       "HOSTCOMP= 'oberon  '           / Host computer name                             \n",
       "HOSTOPS = 'SunOS 5.10'         / Host computer operating system                 \n",
       "PROGRAM = 'ICE V2-05May2014 18:16:41' / Data acquistion program                 \n",
       "DETECTOR= 'FI1     '           / Detector name                                  \n",
       "DETSIZE = '[1:2048,1:2048]'    / Detector size                                  \n",
       "MICROCOD= 'FI1_2007'           / Detector microcode name                        \n",
       "CONTTYPE= 'McDonald Obs. V2'   / Detector controller type                       \n",
       "BP      = 'V2.0 #1 Rev B'      / Backplane ID                                   \n",
       "PS      = 'V2.0 #6 Rev B'      / Power supply ID                                \n",
       "CD      = 'V2.0 #1 Rev B'      / Clock driver ID                                \n",
       "TC      = 'V2.0 #6 Rev A'      / Temperature controller ID                      \n",
       "DSP     = 'V2.0 #6 Rev B'      / Digital signal processor ID                    \n",
       "ASP1    = 'V2.0 #1 Rev C'      / Analog Signal Processor #1 ID                  \n",
       "PH      = 'V2.0 #6 Rev E'      / Penthouse ID                                   \n",
       "AMPLIFIE= '1       '           / Amplifier(s) in use                            \n",
       "ASPGAIN =                    1 / ASP gain setting                               \n",
       "INTEGRAT=                    2 / Integrator setting                             \n",
       "DETTEMP =                 -100 / Detector temperature (Celsius)                 \n",
       "CRYOTEMP=              -196.12 / Cold sink temperature (Celsius)                \n",
       "CONTTEMP=                18.02 / Controller temperature (Celsius)               \n",
       "INSTRTEM=                10.63 / Instrument temperature (Celsius)               \n",
       "SERVOPWR=                 0.66 / Servo heater power (watts)                     \n",
       "NCCDS   =                    1 / Number of CCDs in detector                     \n",
       "NAMPS   =                    1 / Number of amplifiers used                      \n",
       "CCDSUM  = '2 1     '           / CCD on chip binning (col row)                  \n",
       "RDNOISE1=                  3.7 / Readout noise for amplifier 1 (electrons)      \n",
       "GAIN1   =                    1 / Gain for amplifier 1 (electrons per ADU)       \n",
       "CCDSIZE = '[1:2048,1:2048]'    / CCD size                                       \n",
       "AMPSEC  = '[1:2048,1:2048]'    / Amplifier section (unbinned CCD pixels)        \n",
       "DETSEC  = '[1:2048,1:2048]'    / Detector section (unbinned CCD pixels)         \n",
       "RA      = '9:55:1.66'                                                           \n",
       "DEC     = '69:51:19.2'                                                          \n",
       "WAT0_001= 'system=image'                                                        \n",
       "WAT1_001= 'wtype=tan axtype=ra'                                                 \n",
       "WAT2_001= 'wtype=tan axtype=dec'                                                \n",
       "WCSDIM  =                    3                                                  \n",
       "COMMENT FITS (Flexible Image Transport System) format defined in Astronomy and  \n",
       "COMMENT Astrophysics Supplement Series v44/p363, v44/p371, v73/p359, v73/p365.  \n",
       "COMMENT Contact the NASA Science Office of Standards and Technology for the     \n",
       "COMMENT FITS Definition document #100 and other FITS information.               \n",
       "HISTORY subtracted:                                                             \n",
       "HISTORY clipping left 56980 of 57288 values, mean 499.909 with error 3.60642 of \n",
       "HISTORY region [1029:1056,2:2047]                                               \n",
       "HISTORY file: ../../../masterbias_s.fits                                        \n",
       "HISTORY Cut region [1:1024,1:2048]                                              \n",
       "HISTORY added photon noise to error frame:                                      \n",
       "HISTORY GAIN of FITS key GAIN1                                                  \n",
       "HISTORY photon noise = SQRT( signal )                                           \n",
       "HISTORY Sky subtracted by subtractsky.                                          \n",
       "HISTORY # CALL : /Users/Briana/Documents/cure/virusp1/bin/subtractsky -T 30 -w  \n",
       "HISTORY 250 --x-sky-scaling 1.0 -f ../flat/eve/pesvp0212.fmod -d                \n",
       "HISTORY ../flat/eve/pesvp0212.dist -X eve/pesvp0211.fits -F                     \n",
       "HISTORY ../flat/eve/pesvp0211.fmod -D ../flat/eve/pesvp0211.dist                \n",
       "HISTORY eve/pesvp0212.fits   by version $Id: subtractsky.cpp 637 2010-11-12     \n",
       "HISTORY 02:17:17Z drory $\n",
       "                                                      \n",
       "HISTORY apextract: extracted fibers 1-246, width 5                              \n",
       "HISTORY # CALL : /Users/bindahl/Documents/cure/virusp1/bin/fiberextract -d      \n",
       "HISTORY pesvp0212.dist -f pesvp0212.fmod -c -r 1,246 -l [4700,7200]             \n",
       "HISTORY Spesvp0212.fits   by version $Id: fiberextract.cpp 657 2011-02-10       \n",
       "HISTORY 20:14:52Z mxhf $\n",
       "                                                       \n",
       "HISTORY # CALL : /Users/Briana/Documents/cure_v2/cure/bin/mkcube -r FcalFe -i   \n",
       "HISTORY  /Users/Briana/Documents/Grad_School/VIRUS_P/VP_reduction/IFUcen_VP2_27 \n",
       "HISTORY m_mkcube.txt -a 2.0 -k 15 -s 1.8 dith2.txt   by version $Id:            \n",
       "HISTORY  mkcube.cpp 1280 2016-10-12 16:21:14Z drory $                           "
      ]
     },
     "execution_count": 30,
     "metadata": {},
     "output_type": "execute_result"
    }
   ],
   "source": [
    "hdu[0].header"
   ]
  },
  {
   "cell_type": "code",
   "execution_count": 31,
   "metadata": {
    "collapsed": false
   },
   "outputs": [],
   "source": [
    "ra_cen = hdu[0].header['CRVAL1']\n",
    "dec_cen = hdu[0].header['CRVAL2']\n",
    "del_ra = hdu[0].header['CRPIX1']\n",
    "del_dec = hdu[0].header['CRPIX2']"
   ]
  },
  {
   "cell_type": "code",
   "execution_count": 37,
   "metadata": {
    "collapsed": false
   },
   "outputs": [],
   "source": [
    "# load wavelength solution\n",
    "wavesol = np.load('/Users/yaolun/research/mapping_code/VIRUS-P/WavelengthSolu_M82_F13_R.npy')\n",
    "outdir = '/Users/yaolun/research/mapping_code/VIRUS-P/spectra/'\n",
    "foo_coord = open('/Users/yaolun/research/mapping_code/VIRUS-P/CuFcalFeSpesvp_F13_R_0212_coord.txt', 'w')\n",
    "foo_coord.write('{:<10s}  {:<10s}  {:<10s}\\n'.format('Pixel', 'RA(deg)', 'Dec(deg)'))\n",
    "pix_counter = 1\n",
    "for x in range(len(hdu[0].data[0,0,:])):\n",
    "    for y in range(len(hdu[0].data[0,:,0])):\n",
    "        foo = open(outdir+'CuFcalFeSpesvp_F13_R_0212_pixel'+str(pix_counter)+'.txt', 'w')\n",
    "#         foo.write('{:<14s}  {:<14s}\\n'.format('Wavelength(A)', 'Flux_Density(erg/s/cm2/A)'))\n",
    "        for i in range(len(wavesol)):\n",
    "            foo.write('{:<14.8e}  {:<14.8e}\\n'.format(wavesol[i], hdu[0].data[i,y,x]))\n",
    "        foo.close()\n",
    "        foo_coord.write('{:<10s}  {:<10.7f}  {:<10.7f}\\n'.format('pixel'+str(pix_counter),\n",
    "                                                                 ra_cen+del_ra*(x-25.5),\n",
    "                                                                 dec_cen+del_dec*(y-25)))\n",
    "        pix_counter += 1\n",
    "foo_coord.close()\n",
    "        "
   ]
  },
  {
   "cell_type": "code",
   "execution_count": 22,
   "metadata": {
    "collapsed": false
   },
   "outputs": [
    {
     "data": {
      "text/plain": [
       "[<matplotlib.lines.Line2D at 0x10fe19940>]"
      ]
     },
     "execution_count": 22,
     "metadata": {},
     "output_type": "execute_result"
    },
    {
     "data": {
      "image/png": "[encoded data removed]",
      "text/plain": [
       "<matplotlib.figure.Figure at 0x10caae828>"
      ]
     },
     "metadata": {},
     "output_type": "display_data"
    }
   ],
   "source": [
    "%matplotlib inline\n",
    "import matplotlib.pyplot as plt\n",
    "data = ascii.read('/Users/yaolun/research/mapping_code/VIRUS-P/spectra/CuFcalFeSpesvp_F13_R_0212_pixel243.txt')\n",
    "plt.plot(data['Wavelength(A)'], data['Flux_Density(erg/s/cm2/A)'])"
   ]
  },
  {
   "cell_type": "code",
   "execution_count": null,
   "metadata": {
    "collapsed": true
   },
   "outputs": [],
   "source": [
    "6569, 6559-6580, 6548, 6598"
   ]
  }
 ],
 "metadata": {
  "kernelspec": {
   "display_name": "Python 3",
   "language": "python",
   "name": "python3"
  },
  "language_info": {
   "codemirror_mode": {
    "name": "ipython",
    "version": 3
   },
   "file_extension": ".py",
   "mimetype": "text/x-python",
   "name": "python",
   "nbconvert_exporter": "python",
   "pygments_lexer": "ipython3",
   "version": "3.5.2"
  }
 },
 "nbformat": 4,
 "nbformat_minor": 0
}
