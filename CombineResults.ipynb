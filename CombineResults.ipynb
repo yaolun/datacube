{
 "cells": [
  {
   "cell_type": "code",
   "execution_count": null,
   "metadata": {
    "collapsed": true
   },
   "outputs": [],
   "source": [
    "def combine(indir, outname, band):\n",
    "    from astropy.io import ascii\n",
    "    import numpy as np\n",
    "    import os\n",
    "    \n",
    "    objlist = os.listdir(indir)\n",
    "    \n",
    "    if band == 'PACS':\n",
    "        subdir = '/pacs/advanced_products/'\n",
    "        filename = ''\n",
    "    elif band == 'SPIRE':\n",
    "        subdir = '/spire/advanced_products/'\n",
    "        filename = 'spire_corrected'\n",
    "        \n",
    "    header = open(indir+obj+subdir+objlist[0]+'_'+filename+'_lines.txt').readlines()[0]\n",
    "    \n",
    "    for obj in objlist:\n",
    "        if not os.path.exists(indir+obj+subdir+obj+'_'+filename+'_lines.txt'):\n",
    "            continue\n",
    "        "
   ]
  },
  {
   "cell_type": "code",
   "execution_count": 2,
   "metadata": {
    "collapsed": false
   },
   "outputs": [],
   "source": [
    "import os\n",
    "objlist = os.listdir('/scratch/CDF_SPIRE_reduction/CDF_archive/')"
   ]
  },
  {
   "cell_type": "code",
   "execution_count": 3,
   "metadata": {
    "collapsed": false
   },
   "outputs": [
    {
     "name": "stdout",
     "output_type": "stream",
     "text": [
      "['B1-a', 'V1515Cyg', 'DKCha', 'IRAS03245', 'L483', 'TMR1', 'WL12', 'L723-MM', 'IRS46', 'RNO91', 'L1551-IRS5', 'B335', 'B1-c', 'BHR71', 'HH100', 'RCrA-IRS5A', 'L1455-IRS', 'V1735Cyg', 'TMC1', 'L1157', 'V1057Cyg', 'L1014', 'RCrA-IRS7B', 'VLA1623', 'V1331Cyg', 'IRAS15398', 'HH46', 'GSS30', 'TMC1A', 'IRAS03301', 'RCrA-IRS7C', 'Ced110', 'FUOri']\n"
     ]
    }
   ],
   "source": [
    "print objlist"
   ]
  },
  {
   "cell_type": "code",
   "execution_count": 4,
   "metadata": {
    "collapsed": true
   },
   "outputs": [],
   "source": [
    "header = open('/scratch/CDF_SPIRE_reduction/CDF_archive/BHR71/spire/advanced_products/BHR71_spire_corrected_lines.txt','r').readlines()"
   ]
  },
  {
   "cell_type": "code",
   "execution_count": null,
   "metadata": {
    "collapsed": true
   },
   "outputs": [],
   "source": []
  }
 ],
 "metadata": {
  "kernelspec": {
   "display_name": "Python 2",
   "language": "python",
   "name": "python2"
  },
  "language_info": {
   "codemirror_mode": {
    "name": "ipython",
    "version": 2
   },
   "file_extension": ".py",
   "mimetype": "text/x-python",
   "name": "python",
   "nbconvert_exporter": "python",
   "pygments_lexer": "ipython2",
   "version": "2.7.11"
  }
 },
 "nbformat": 4,
 "nbformat_minor": 0
}
